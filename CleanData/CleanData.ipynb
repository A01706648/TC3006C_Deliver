{
  "nbformat": 4,
  "nbformat_minor": 0,
  "metadata": {
    "colab": {
      "name": "CleanData.ipynb",
      "provenance": [],
      "collapsed_sections": [],
      "authorship_tag": "ABX9TyOYl1vIKPMnQF37FX9JL5JV",
      "include_colab_link": true
    },
    "kernelspec": {
      "name": "python3",
      "display_name": "Python 3"
    },
    "language_info": {
      "name": "python"
    }
  },
  "cells": [
    {
      "cell_type": "markdown",
      "metadata": {
        "id": "view-in-github",
        "colab_type": "text"
      },
      "source": [
        "<a href=\"https://colab.research.google.com/github/A01706648/TC3006C_Deliver/blob/main/CleanData/CleanData.ipynb\" target=\"_parent\"><img src=\"https://colab.research.google.com/assets/colab-badge.svg\" alt=\"Open In Colab\"/></a>"
      ]
    },
    {
      "cell_type": "code",
      "execution_count": 3,
      "metadata": {
        "colab": {
          "base_uri": "https://localhost:8080/"
        },
        "id": "luZEM4hHYKHz",
        "outputId": "2165d805-211b-4b70-b109-0f290f3c4e2b"
      },
      "outputs": [
        {
          "output_type": "stream",
          "name": "stdout",
          "text": [
            "not in the Kaggle, we are going to load google drive for the file\n"
          ]
        }
      ],
      "source": [
        "# This Python 3 environment comes with many helpful analytics libraries installed\n",
        "# It is defined by the kaggle/python Docker image: https://github.com/kaggle/docker-python\n",
        "# For example, here's several helpful packages to load\n",
        "\n",
        "import numpy as np # linear algebra\n",
        "import pandas as pd # data processing, CSV file I/O (e.g. pd.read_csv)\n",
        "\n",
        "# Input data files are available in the read-only \"../input/\" directory\n",
        "# For example, running this (by clicking run or pressing Shift+Enter) will list all files under the input directory\n",
        "\n",
        "import os\n",
        "isInKaggle = False\n",
        "\n",
        "for dirname, _, filenames in os.walk('/kaggle/input'):\n",
        "    if(not isInKaggle):\n",
        "        if(len(filenames) > 0):\n",
        "            isInKaggle = True\n",
        "    \n",
        "    for filename in filenames:\n",
        "        print(os.path.join(dirname, filename))\n",
        "\n",
        "# You can write up to 20GB to the current directory (/kaggle/working/) that gets preserved as output when you create a version using \"Save & Run All\" \n",
        "# You can also write temporary files to /kaggle/temp/, but they won't be saved outside of the current session\n",
        "if(not isInKaggle):\n",
        "  print('not in the Kaggle, we are going to load google drive for the file')"
      ]
    },
    {
      "cell_type": "code",
      "source": [],
      "metadata": {
        "id": "HVWcsUCi_Ukl"
      },
      "execution_count": null,
      "outputs": []
    },
    {
      "cell_type": "code",
      "source": [
        "if(not isInKaggle):\n",
        "  from google.colab import drive\n",
        "  drive.mount(\"/content/gdrive\") \n",
        "  %cd \"/content/gdrive/MyDrive/Machine Learning/deliver/CleanData/titanic/\"\n",
        "  df_train = pd.read_csv('train.csv')\n",
        "else:\n",
        "  df_train = pd.read_csv('/kaggle/input/titanic/train.csv')  "
      ],
      "metadata": {
        "colab": {
          "base_uri": "https://localhost:8080/"
        },
        "id": "93iflKHt84cl",
        "outputId": "35a329e3-6da8-40b1-f925-38eb81a48439"
      },
      "execution_count": 5,
      "outputs": [
        {
          "output_type": "stream",
          "name": "stdout",
          "text": [
            "Mounted at /content/gdrive\n",
            "/content/gdrive/MyDrive/Machine Learning/deliver/CleanData/titanic\n"
          ]
        }
      ]
    }
  ]
}